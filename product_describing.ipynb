{
 "cells": [
  {
   "cell_type": "code",
   "execution_count": 12,
   "id": "ff516b8f",
   "metadata": {},
   "outputs": [],
   "source": [
    "import os\n",
    "import openai"
   ]
  },
  {
   "cell_type": "code",
   "execution_count": 13,
   "id": "13d688a7",
   "metadata": {},
   "outputs": [],
   "source": [
    "# Load your API key from an environment variable or secret management service\n",
    "openai.api_key = 'your-API-Key'\n",
    "\n",
    "chat_completion = openai.ChatCompletion.create(model=\"gpt-3.5-turbo-0613\", messages=[{\"role\": \"user\", \"content\": \"Hello world\"}])"
   ]
  },
  {
   "cell_type": "code",
   "execution_count": 14,
   "id": "2087a377",
   "metadata": {},
   "outputs": [],
   "source": [
    "messages = [\n",
    "    {\"role\": \"system\", \"content\": \"I will give you a description of the product, your task is to describe all the ingredients contained in my description and and their impact on our health, together with a summary of whether the product is of good quality or not. Your answer should fit on an A4 page.\"},\n",
    "]"
   ]
  },
  {
   "cell_type": "code",
   "execution_count": 15,
   "id": "37a35975",
   "metadata": {
    "scrolled": true
   },
   "outputs": [
    {
     "name": "stdout",
     "output_type": "stream",
     "text": [
      "User: Aqua, PVP, Acrylates/Hydroxyesters Acrylates Copolymer, Acrylates/Steareth-20 Methacrylate Crosspolymer, Aminomethyl Propanol, Glycerin, Phenoxyethanol, PEG-40 Hydrogenated Castor Oil, Parfum, DMDM Hydantoin, Niacinamide, Panthenol, Benzotriazolyl Dodecyl p-Cresol, Benzoic Acid, Styrene/VP Copolymer, Linalool, Butylphenyl Methylpropional, Sodium Benzoate, Limonene, CI 60730\n",
      "ChatGPT: Ingredients in the product description:\n",
      "1. Aqua (Water): This is the base of the product, providing hydration and solubility for other ingredients.\n",
      "2. PVP: A film-forming polymer that helps to hold the product together and provides a strong hold to the hair.\n",
      "3. Acrylates/Hydroxyesters Acrylates Copolymer: A thickening agent and film-forming polymer that helps to provide texture and hold to the hair.\n",
      "4. Acrylates/Steareth-20 Methacrylate Crosspolymer: Another polymer that enhances the product's ability to adhere to the hair.\n",
      "5. Aminomethyl Propanol: A buffering agent that helps to adjust the pH of the product.\n",
      "6. Glycerin: A humectant that attracts and retains moisture in the hair, preventing dryness.\n",
      "7. Phenoxyethanol: A preservative that helps to protect against microbial growth in the product.\n",
      "8. PEG-40 Hydrogenated Castor Oil: An emulsifier and solubilizer that helps to blend oil-based and water-based ingredients.\n",
      "9. Parfum: Fragrance added to enhance the sensory experience of using the product.\n",
      "10. DMDM Hydantoin: A preservative that helps to prevent microbial contamination.\n",
      "11. Niacinamide: Also known as Vitamin B3, it has various benefits for the hair, such as promoting hair growth, strengthening the hair follicles, and reducing scalp inflammation.\n",
      "12. Panthenol: A form of Vitamin B5 that helps to improve hair elasticity, moisture retention, and strength.\n",
      "13. Benzotriazolyl Dodecyl p-Cresol: A UV absorber that protects the hair from the damaging effects of UV radiation.\n",
      "14. Benzoic Acid: A weak preservative and pH adjuster.\n",
      "15. Styrene/VP Copolymer: Another thickening agent and film-forming polymer that aids in providing volume and hold.\n",
      "16. Linalool: A naturally occurring fragrance ingredient.\n",
      "17. Butylphenyl Methylpropional: Another fragrance ingredient commonly used in cosmetic products.\n",
      "18. Sodium Benzoate: A preservative that helps to prevent the growth of bacteria and fungi.\n",
      "19. Limonene: A natural fragrance compound found in citrus fruits.\n",
      "20. CI 60730: A cosmetic colorant that gives the product its specific hue.\n",
      "\n",
      "Impact on Health:\n",
      "Overall, most of the ingredients listed in the description are considered safe for cosmetic use. However, it is important to note that individuals with specific allergies or sensitivities to certain ingredients should exercise caution and check for potential allergens among the listed ingredients (such as fragrances like linalool or limonene).\n",
      "\n",
      "In terms of health benefits, ingredients like niacinamide and panthenol offer potential advantages for hair health, such as promoting growth and strength. Glycerin helps to keep the hair hydrated and prevent dryness, while the UV absorber (benzotriazolyl dodecyl p-cresol) offers protection against sun damage.\n",
      "\n",
      "Quality of the Product:\n",
      "Based on the provided ingredients, the product appears to be of good quality, as it contains a mix of functional ingredients such as film-formers, thickeners, preservatives, and beneficial additives for hair health. However, it is also important to consider other factors like the concentration and overall formulation of the product, as well as individual preferences and needs, to determine if it meets specific quality expectations.\n",
      "ChatGPT: When considering the environmental impact of the ingredients listed in the product description, several factors should be taken into account:\n",
      "\n",
      "1. Aqua (Water): Water is a natural resource essential for life, and its use in the formulation of cosmetic products is necessary. However, the impact on the environment depends on the sourcing and extraction methods of water, as well as the wastewater disposal practices of the manufacturing facility.\n",
      "\n",
      "2. Acrylates/Hydroxyesters Acrylates Copolymer, Acrylates/Steareth-20 Methacrylate Crosspolymer, and Styrene/VP Copolymer: These polymers are synthetic ingredients derived from petrochemicals. Their production process has environmental implications, including the extraction and refining of crude oil, which has various negative impacts such as greenhouse gas emissions and habitat destruction. Additionally, if not properly disposed of or treated, these polymers can persist in the environment, potentially causing pollution.\n",
      "\n",
      "3. PEG-40 Hydrogenated Castor Oil: While castor oil itself is derived from a natural source, the hydrogenation process (converting it into PEG-40 Hydrogenated Castor Oil) usually involves the use of chemicals and high temperatures, which can have environmental consequences. Additionally, the presence of polyethylene glycol (PEG) in this ingredient raises concerns about its potential environmental persistence and toxicity.\n",
      "\n",
      "4. Parfum (Fragrance): Fragrance ingredients can be a complex mixture of various chemicals, some of which may have adverse effects on the environment. Some synthetic fragrances may contribute to air pollution and harm aquatic organisms if not properly treated in wastewater. Natural fragrances, on the other hand, may have a lower environmental impact, provided they are sustainably sourced.\n",
      "\n",
      "5. DMDM Hydantoin, Benzoic Acid, and Sodium Benzoate: These preservatives, while effective in preventing microbial growth in cosmetic products, may have the potential to contaminate water systems if not properly managed. They can undergo transformation in the environment and may contribute to the formation of disinfection by-products that have negative effects on aquatic life.\n",
      "\n",
      "In summary, several ingredients in the product can have an environmental impact, particularly those derived from petrochemicals and certain preservatives. To determine the overall environmental footprint of the product, it is important to consider the manufacturing processes, waste management practices, and the sustainable sourcing of ingredients. Additionally, using biodegradable and environmentally friendly alternatives for certain ingredients, along with proper disposal and wastewater treatment, can help mitigate the potential environmental impacts associated with the product.\n",
      "User: \n"
     ]
    }
   ],
   "source": [
    "answer = []\n",
    "\n",
    "while True:\n",
    "    message = input(\"User: \")\n",
    "    \n",
    "    if message:\n",
    "        messages.append(\n",
    "            {\"role\": \"user\", \"content\": message},\n",
    "        )\n",
    "        \n",
    "        chat = openai.ChatCompletion.create(\n",
    "            model=\"gpt-3.5-turbo\",\n",
    "            messages=messages\n",
    "        )\n",
    "\n",
    "        reply = chat.choices[0].message.content\n",
    "        print(f\"ChatGPT: {reply}\")\n",
    "        messages.append({\"role\": \"assistant\", \"content\": reply})\n",
    "        answer.append(reply)\n",
    "        \n",
    "        messages.append(\n",
    "            {\"role\": \"user\", \"content\": \"Impact of these ingredients on the environment:\"},\n",
    "        )\n",
    "        \n",
    "        chat = openai.ChatCompletion.create(\n",
    "            model=\"gpt-3.5-turbo\",\n",
    "            messages=messages\n",
    "        )\n",
    "\n",
    "        reply = chat.choices[0].message.content\n",
    "        print(f\"ChatGPT: {reply}\")\n",
    "        messages.append({\"role\": \"assistant\", \"content\": reply})\n",
    "        answer.append(reply)\n",
    "        \n",
    "    else:\n",
    "        break"
   ]
  },
  {
   "cell_type": "code",
   "execution_count": null,
   "id": "3873ed90",
   "metadata": {},
   "outputs": [],
   "source": [
    "# To count words in chatGPT answer you need to end above kernel by typing enter in text entry field \n",
    "# without typing any text."
   ]
  },
  {
   "cell_type": "code",
   "execution_count": 16,
   "id": "ff73d730",
   "metadata": {},
   "outputs": [
    {
     "name": "stdout",
     "output_type": "stream",
     "text": [
      "Total number of words in the chatGPT answer: 939\n"
     ]
    }
   ],
   "source": [
    "word_count = 0\n",
    "for dictionary in messages:\n",
    "    content = dictionary.get('content', '')\n",
    "    words = content.split()\n",
    "    word_count += len(words)\n",
    "\n",
    "print(\"Total number of words in the chatGPT answer:\", word_count)"
   ]
  },
  {
   "cell_type": "code",
   "execution_count": 17,
   "id": "d6c49516",
   "metadata": {},
   "outputs": [],
   "source": [
    "# Saving chatGPT answer to PDF format"
   ]
  },
  {
   "cell_type": "code",
   "execution_count": 22,
   "id": "276291f9",
   "metadata": {},
   "outputs": [],
   "source": [
    "from reportlab.lib.pagesizes import letter\n",
    "from reportlab.platypus import SimpleDocTemplate, Paragraph\n",
    "from reportlab.lib.styles import getSampleStyleSheet\n",
    "\n",
    "def save_list_as_pdf(answer, filename):\n",
    "    # Create a PDF document with the specified filename\n",
    "    doc = SimpleDocTemplate(filename, pagesize=letter)\n",
    "    story = []\n",
    "\n",
    "    # Define the style for the content\n",
    "    styles = getSampleStyleSheet()\n",
    "    content_style = styles['Normal']\n",
    "    content_style.fontSize = 8  # Decrease the font size to 10 points\n",
    "\n",
    "\n",
    "    # Iterate over each item in my_list\n",
    "    for item in answer:\n",
    "        if item.strip():  # Check if the item is not empty or whitespace\n",
    "            # Create a paragraph with the item content\n",
    "            paragraph = Paragraph(item, content_style)\n",
    "            story.append(paragraph)\n",
    "\n",
    "    # Build the PDF document with the story\n",
    "    doc.build(story)\n",
    "    \n",
    "save_list_as_pdf(answer, 'Answer.pdf')"
   ]
  },
  {
   "cell_type": "code",
   "execution_count": null,
   "id": "b2770aef",
   "metadata": {},
   "outputs": [],
   "source": []
  }
 ],
 "metadata": {
  "kernelspec": {
   "display_name": "Python 3 (ipykernel)",
   "language": "python",
   "name": "python3"
  },
  "language_info": {
   "codemirror_mode": {
    "name": "ipython",
    "version": 3
   },
   "file_extension": ".py",
   "mimetype": "text/x-python",
   "name": "python",
   "nbconvert_exporter": "python",
   "pygments_lexer": "ipython3",
   "version": "3.9.12"
  }
 },
 "nbformat": 4,
 "nbformat_minor": 5
}
